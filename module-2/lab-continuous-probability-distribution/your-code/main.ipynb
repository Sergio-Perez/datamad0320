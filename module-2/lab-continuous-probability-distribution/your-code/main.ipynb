{
 "cells": [
  {
   "cell_type": "markdown",
   "metadata": {},
   "source": [
    "# Before your start:\n",
    "\n",
    "    Read the README.md file\n",
    "    Comment as much as you can and use the resources (README.md file)\n",
    "    Happy learning!"
   ]
  },
  {
   "cell_type": "markdown",
   "metadata": {},
   "source": [
    "In this exercise, we  will generate random numbers from the continuous disributions we learned in the lesson. There are two ways to generate random numbers:\n",
    "\n",
    "1. Using the numpy library \n",
    "1. using the Scipy library \n",
    "\n",
    "Use either or both of the lbraries in this exercise."
   ]
  },
  {
   "cell_type": "markdown",
   "metadata": {},
   "source": [
    "## Uniform Distribution\n",
    "\n",
    "To generate uniform random numbers between any two given values using scipy, we can either use the following code or the code that we have\n",
    "discussed in class:"
   ]
  },
  {
   "cell_type": "code",
   "execution_count": 25,
   "metadata": {},
   "outputs": [
    {
     "name": "stdout",
     "output_type": "stream",
     "text": [
      "[2.50564098 2.32684093 2.30718783 2.61870257 2.07140209 2.43927022\n",
      " 2.6413784  2.79682461 2.12283831 2.46878117]\n"
     ]
    }
   ],
   "source": [
    "import random\n",
    "from scipy.stats import uniform\n",
    "x = uniform.rvs(size=10)\n",
    "a = 2\n",
    "b = 3\n",
    "randoms  = a + (b-a)*x\n",
    "print(randoms)"
   ]
  },
  {
   "cell_type": "markdown",
   "metadata": {},
   "source": [
    "**Your task:**\n",
    "\n",
    "1. Based on the code above, write a function that generates uniformly distributed random numbers. There are several requirements for your function:\n",
    "    * It should accept 3 parameters: \n",
    "        * `bottom` - the lower boundary of the generated numbers\n",
    "        * `ceiling` - the upper boundary of the generated numbers\n",
    "        * `count` - how many numbers to generate\n",
    "    * It should return an array of uniformly distributed random numbers\n",
    "\n",
    "1. Call your function with 2 sets of params below:\n",
    "    * bottom=10, ceiling=15, count=100\n",
    "    * bottom=10, ceiling=60, count=1,000\n",
    "\n",
    "1. Plot the uniform distributions generated above using histograms, where x axis is the value and y axis is the count. Let the histogram's number of bins be 10.\n",
    "\n",
    "Your output should look like below:\n",
    "\n",
    "![uniform distribution](ud.png)"
   ]
  },
  {
   "cell_type": "code",
   "execution_count": 48,
   "metadata": {},
   "outputs": [
    {
     "name": "stdout",
     "output_type": "stream",
     "text": [
      "[14.8370719  10.10963258 12.73782854 11.98585365 14.29803989 10.41659312\n",
      " 10.4161539  10.38846287 12.38512599 13.61083979 13.69563677 11.01189491\n",
      " 13.30128961 13.40170034 11.19985986 10.36813596 12.48435386 14.14797325\n",
      " 11.16316842 13.85131492 14.55114171 12.52134726 14.07790503 10.24366707\n",
      " 14.57584806 11.54171101 10.74164073 11.34843273 12.34702674 12.79053\n",
      " 10.83670168 13.47581385 14.9563353  13.74144779 10.83240239 14.3965648\n",
      " 11.31387902 13.0826303  10.85450285 14.66532459 10.77292743 10.22593035\n",
      " 11.97540424 14.8911632  10.71787189 14.49387567 13.45902035 10.12644791\n",
      " 10.05355014 14.09344768 11.4621046  14.25247992 13.07911126 14.44702632\n",
      " 11.4102228  12.81003192 11.60194485 14.00897997 11.4832465  10.69869273\n",
      " 10.18668561 13.56818412 12.35076321 14.05624587 13.91443729 14.21449174\n",
      " 11.59888581 14.92587248 10.69009042 10.30060774 14.74601236 11.27517352\n",
      " 12.42498583 12.62241425 13.73646182 12.01157818 14.00254678 14.44314843\n",
      " 13.18515127 12.06245983 10.02996632 10.31796919 12.29496267 12.08119753\n",
      " 11.85749798 10.49516571 12.85111833 11.40761613 13.99774727 10.81523952\n",
      " 13.78190916 12.60244585 12.24000065 12.41129569 11.28625417 10.39974293\n",
      " 12.15158131 11.11157972 13.0255846  12.55711524]\n"
     ]
    }
   ],
   "source": [
    "\n",
    "def generador(bottom,ceiling,count):\n",
    "    x = uniform.rvs(size=count)\n",
    "    a = bottom\n",
    "    b = ceiling\n",
    "    randoms  = a + (b-a)*x\n",
    "    return randoms  \n",
    "\n",
    "\n",
    "    \n",
    "primer = generador(10,15,100)\n",
    "\n",
    "segundo= generador(10,60,1000)\n",
    "print(primer)"
   ]
  },
  {
   "cell_type": "code",
   "execution_count": 51,
   "metadata": {},
   "outputs": [
    {
     "data": {
      "image/png": "[encoded data removed]",
      "text/plain": [
       "<Figure size 1152x576 with 2 Axes>"
      ]
     },
     "metadata": {
      "needs_background": "light"
     },
     "output_type": "display_data"
    }
   ],
   "source": [
    "%matplotlib inline\n",
    "import matplotlib.pyplot as plt\n",
    "import numpy as np\n",
    "\n",
    "from scipy.stats import uniform\n",
    "plt.figure(figsize=(16,8))\n",
    "plt.subplot(1,2,1)\n",
    "plt.hist(primer)\n",
    "plt.subplot(1,2,2)\n",
    "plt.hist(segundo)\n",
    "\n",
    "\n",
    "\n",
    "plt.show()"
   ]
  },
  {
   "cell_type": "markdown",
   "metadata": {},
   "source": [
    "How are the two distributions different?"
   ]
  },
  {
   "cell_type": "markdown",
   "metadata": {},
   "source": [
    "En la imagen de la izquierda solo llega como mucho hasta el 15 de altura en tanto que la figura de la derecha los valores son mucho mayores casi llegan a 120.\n"
   ]
  },
  {
   "cell_type": "markdown",
   "metadata": {},
   "source": [
    "## Normal Distribution\n",
    "\n",
    "1. In the same way in the Uniform Distribution challenge, write a function that generates normally distributed random numbers.\n",
    "1. Generate 1,000 normally distributed numbers with the average of 10 and standard deviation of 1\n",
    "1. Generate 1,000 normally distributed numbers with the average of 10 and standard deviation of 50\n",
    "2. Plot the distributions of the data generated.\n",
    "\n",
    "Expected output:\n",
    "\n",
    "![normal distribution](nd.png)"
   ]
  },
  {
   "cell_type": "code",
   "execution_count": 123,
   "metadata": {},
   "outputs": [
    {
     "data": {
      "image/png": "[encoded data removed]",
      "text/plain": [
       "<Figure size 432x288 with 2 Axes>"
      ]
     },
     "metadata": {
      "needs_background": "light"
     },
     "output_type": "display_data"
    }
   ],
   "source": [
    "import seaborn as sns\n",
    "from scipy.stats import norm\n",
    "d = norm.rvs(loc=10, scale=1, size=1000)\n",
    "e = norm.rvs(size=1000,loc=10,scale=50)\n",
    "\n",
    "plt.subplot(1,2,1)\n",
    "\n",
    "x = sns.distplot(d, \n",
    "                  bins=100,\n",
    "                  kde=True,\n",
    "                  color='skyblue',\n",
    "                  hist_kws={\"linewidth\": 15,'alpha':1}\n",
    "                  \n",
    "                   )\n",
    "x.set(xlabel='Normal Distribution', ylabel='Frequency')\n",
    "plt.subplot(1,2,2)\n",
    "\n",
    "v = sns.distplot(e,\n",
    "                  bins=100,\n",
    "                  kde=True,\n",
    "                  color='skyblue',\n",
    "                  hist_kws={\"linewidth\": 15,'alpha':1}\n",
    "                  )\n",
    "v.set(xlabel='Normal Distribution', ylabel='Frequency')\n",
    "\n",
    "\n",
    "plt.show()"
   ]
  },
  {
   "cell_type": "markdown",
   "metadata": {},
   "source": [
    "How are the two distributions different?"
   ]
  },
  {
   "cell_type": "markdown",
   "metadata": {},
   "source": [
    "Son practicamente iguales con diferentes medidas"
   ]
  },
  {
   "cell_type": "markdown",
   "metadata": {},
   "source": [
    "## Normal Distribution of Real Data\n",
    "\n",
    "In this challenge we are going to take a look the real data. We will use vehicles.csv file for this exercise"
   ]
  },
  {
   "cell_type": "markdown",
   "metadata": {},
   "source": [
    "First import vehicles.csv.\n",
    "Then plot the histograms for the following variables:\n",
    "\n",
    "1. Fuel Barrels/Year"
   ]
  },
  {
   "cell_type": "code",
   "execution_count": 141,
   "metadata": {},
   "outputs": [
    {
     "data": {
      "image/png": "[encoded data removed]",
      "text/plain": [
       "<Figure size 432x288 with 1 Axes>"
      ]
     },
     "metadata": {
      "needs_background": "light"
     },
     "output_type": "display_data"
    }
   ],
   "source": [
    "import pandas as pd\n",
    "df = pd.read_csv(\"vehicles.csv\")\n",
    "df_fuel = sns.distplot(df[\"Fuel Barrels/Year\"],\n",
    "                  bins=100,\n",
    "                  kde=True,\n",
    "                  color='skyblue',\n",
    "                  hist_kws={\"linewidth\": 15,'alpha':1}\n",
    "                  )\n"
   ]
  },
  {
   "cell_type": "markdown",
   "metadata": {},
   "source": [
    "2. CO2 Emission Grams/Mile "
   ]
  },
  {
   "cell_type": "code",
   "execution_count": 139,
   "metadata": {},
   "outputs": [
    {
     "data": {
      "image/png": "[encoded data removed]",
      "text/plain": [
       "<Figure size 432x288 with 1 Axes>"
      ]
     },
     "metadata": {
      "needs_background": "light"
     },
     "output_type": "display_data"
    }
   ],
   "source": [
    "df_CO2 = sns.distplot(df[\"CO2 Emission Grams/Mile\"],\n",
    "                  bins=100,\n",
    "                  kde=True,\n",
    "                  color='skyblue',\n",
    "                  hist_kws={\"linewidth\": 15,'alpha':1}\n",
    "                  )\n",
    "\n"
   ]
  },
  {
   "cell_type": "markdown",
   "metadata": {},
   "source": [
    "3. Combined MPG"
   ]
  },
  {
   "cell_type": "code",
   "execution_count": 140,
   "metadata": {},
   "outputs": [
    {
     "data": {
      "image/png": "[encoded data removed]",
      "text/plain": [
       "<Figure size 432x288 with 1 Axes>"
      ]
     },
     "metadata": {
      "needs_background": "light"
     },
     "output_type": "display_data"
    }
   ],
   "source": [
    "df_Combined = sns.distplot(df[\"Combined MPG\"],\n",
    "                  bins=100,\n",
    "                  kde=True,\n",
    "                  color='skyblue',\n",
    "                  hist_kws={\"linewidth\": 15,'alpha':1}\n",
    "                  )\n"
   ]
  },
  {
   "cell_type": "markdown",
   "metadata": {},
   "source": [
    "Which one(s) of the variables are nearly normally distributed? How do you know?"
   ]
  },
  {
   "cell_type": "code",
   "execution_count": null,
   "metadata": {},
   "outputs": [],
   "source": [
    "Supongo que es esta última de combined Mpg por que sus valores son mas homogéneos."
   ]
  },
  {
   "cell_type": "markdown",
   "metadata": {},
   "source": [
    "## Exponential Distribution"
   ]
  },
  {
   "cell_type": "markdown",
   "metadata": {},
   "source": [
    "1. Using `numpy.random.exponential`, create a function that returns a list of numbers exponentially distributed with the mean of 10. \n",
    "\n",
    "1. Use the function to generate two number sequences with the size of 10 and 100.\n",
    "\n",
    "1. Plot the distributions as histograms with the nubmer of bins as 100.\n",
    "\n",
    "Your output should look like below:\n",
    "\n",
    "![exponential distribution](ed.png)"
   ]
  },
  {
   "cell_type": "code",
   "execution_count": 181,
   "metadata": {},
   "outputs": [
    {
     "data": {
      "image/png": "[encoded data removed]",
      "text/plain": [
       "<Figure size 432x288 with 2 Axes>"
      ]
     },
     "metadata": {
      "needs_background": "light"
     },
     "output_type": "display_data"
    }
   ],
   "source": [
    "import numpy as np\n",
    "def randomMean(tamano):\n",
    "    mira=[]\n",
    "    for e in range(0,tamano):\n",
    "        mira.append( np.mean(np.random.exponential(size=10)))\n",
    "    return mira\n",
    "def secuencias(tamano1,tamano2):\n",
    "    e =np.random.exponential(size=tamano1)\n",
    "    d =np.random.exponential(size=tamano2)\n",
    "      \n",
    "    return e,d\n",
    "munberUno = randomMean(100)\n",
    "\n",
    "numbertwo = secuencias(10,100)\n",
    "\n",
    "\n",
    "plt.subplot(1,2,1)\n",
    "\n",
    "imagenUno= sns.distplot(munberUno, \n",
    "                  bins=100,\n",
    "                  kde=True,\n",
    "                  color='skyblue',\n",
    "                  hist_kws={\"linewidth\": 15,'alpha':1}\n",
    "                  \n",
    "                   )\n",
    "x.set(xlabel='Normal Distribution', ylabel='Frequency')\n",
    "plt.subplot(1,2,2)\n",
    "\n",
    "imagenDos = sns.distplot(numbertwo[0],\n",
    "                  bins=100,\n",
    "                  kde=True,\n",
    "                  color='skyblue',\n",
    "                  hist_kws={\"linewidth\": 15,'alpha':1}\n",
    "                  )\n",
    "v.set(xlabel='Normal Distribution', ylabel='Frequency')\n",
    "imagenDoss = sns.distplot(numbertwo[1],\n",
    "                  bins=100,\n",
    "                  kde=True,\n",
    "                  color='skyblue',\n",
    "                  hist_kws={\"linewidth\": 15,'alpha':1}\n",
    "                  )\n",
    "v.set(xlabel='Normal Distribution', ylabel='Frequency')\n",
    "\n",
    "\n",
    "\n",
    "plt.show()"
   ]
  },
  {
   "cell_type": "markdown",
   "metadata": {},
   "source": [
    "How are the two distributions different?"
   ]
  },
  {
   "cell_type": "markdown",
   "metadata": {},
   "source": [
    "En la imagen de la izquierda tienes menos valores que pasan del 3 en cambio en la figura de la derecha\n",
    "hay muchos mas valores que pasan. Igual que en la figura de la derecha tiene valores más altos en el eje de las y.\n",
    "Por lo demás son muy parecidos\n",
    "\n"
   ]
  },
  {
   "cell_type": "markdown",
   "metadata": {},
   "source": [
    "## Exponential Distribution of Real Data\n",
    "\n",
    "Suppose that the amount of time one spends in a bank is exponentially distributed with mean as 10 minutes (i.e. λ = 1/10). What is the probability that a customer will spend less than fifteen minutes in the bank? \n",
    "\n",
    "Write a code in python to solve this problem"
   ]
  },
  {
   "cell_type": "code",
   "execution_count": null,
   "metadata": {},
   "outputs": [],
   "source": [
    "# your answer here\n",
    "# Hint: This is same as saying P(x<15)"
   ]
  },
  {
   "cell_type": "markdown",
   "metadata": {},
   "source": [
    "What is the probability that the customer will spend more than 15 minutes"
   ]
  },
  {
   "cell_type": "code",
   "execution_count": null,
   "metadata": {},
   "outputs": [],
   "source": [
    "# your answer here"
   ]
  },
  {
   "cell_type": "code",
   "execution_count": null,
   "metadata": {},
   "outputs": [],
   "source": []
  }
 ],
 "metadata": {
  "kernelspec": {
   "display_name": "Python 3",
   "language": "python",
   "name": "python3"
  },
  "language_info": {
   "codemirror_mode": {
    "name": "ipython",
    "version": 3
   },
   "file_extension": ".py",
   "mimetype": "text/x-python",
   "name": "python",
   "nbconvert_exporter": "python",
   "pygments_lexer": "ipython3",
   "version": "3.6.9"
  }
 },
 "nbformat": 4,
 "nbformat_minor": 2
}
