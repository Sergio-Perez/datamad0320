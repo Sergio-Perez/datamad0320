{
 "cells": [
  {
   "cell_type": "code",
   "execution_count": 1,
   "metadata": {},
   "outputs": [
    {
     "data": {
      "text/plain": [
       "<Response [200]>"
      ]
     },
     "execution_count": 1,
     "metadata": {},
     "output_type": "execute_result"
    }
   ],
   "source": [
    "import os\n",
    "from dotenv import load_dotenv\n",
    "import requests\n",
    "\n",
    "\n",
    "url = \"https://api.github.com/repos/ironhack-datalabs/datamad0320/forks\"\n",
    "res = requests.get(url)\n",
    "datos =res.json()\n",
    "res\n"
   ]
  },
  {
   "cell_type": "code",
   "execution_count": 2,
   "metadata": {},
   "outputs": [],
   "source": [
    "def getFromGithub(path,queryParams=dict(),apiKey=\"\"):\n",
    "    \n",
    "    # Construct the resource url\n",
    "    url = f\"https://api.github.com{path}\"\n",
    "    \n",
    "    # If apiKey is defined, pass a header\n",
    "    headers = {\"Authorization\":f\"token {apiKey}\"} if apiKey else {}\n",
    "\n",
    "    # Perform the request\n",
    "    res = requests.get(url, params=queryParams, headers=headers)\n",
    "    print(res.status_code, res.url)\n",
    "    \n",
    "    # Extract json from body response\n",
    "    return res.json()"
   ]
  },
  {
   "cell_type": "code",
   "execution_count": 3,
   "metadata": {},
   "outputs": [
    {
     "name": "stdout",
     "output_type": "stream",
     "text": [
      "WE HAVE APIKEY\n",
      "400 https://api.github.com/repos/ironhack-datalabs/datamad0320/forks?sort=mewest\n"
     ]
    }
   ],
   "source": [
    "path=\"/repos/ironhack-datalabs/datamad0320/forks?\"\n",
    "load_dotenv()\n",
    "apiKey = os.getenv(\"GITHUB_APIKEY\")\n",
    "print(\"WE HAVE APIKEY\") if apiKey else print(\"NO APIKEY FOUND\")\n",
    "queryParams ={\n",
    "        \"sort\" : \"mewest\"\n",
    "}\n",
    "\n",
    "datos= getFromGithub(path,queryParams,apiKey)"
   ]
  },
  {
   "cell_type": "code",
   "execution_count": 4,
   "metadata": {},
   "outputs": [
    {
     "name": "stdout",
     "output_type": "stream",
     "text": [
      "200 https://api.github.com/repos/ironhack-datalabs/datamad0320/forks?language_url\n"
     ]
    }
   ],
   "source": [
    "\n",
    "repolanguage =  getFromGithub(\"/repos/ironhack-datalabs/datamad0320/forks?language_url\")"
   ]
  },
  {
   "cell_type": "code",
   "execution_count": 5,
   "metadata": {},
   "outputs": [
    {
     "name": "stdout",
     "output_type": "stream",
     "text": [
      "['https://api.github.com/repos/Carolinacastioni/datamad0320/languages', 'https://api.github.com/repos/TIMEOG/datamad0320-A/languages', 'https://api.github.com/repos/luissanchezgrisolia/datamad0320/languages', 'https://api.github.com/repos/DavEst91/datamad0320/languages', 'https://api.github.com/repos/Macarena18/datamad0320/languages', 'https://api.github.com/repos/mariamoyano/datamad0320/languages', 'https://api.github.com/repos/silviaserafini/datamad0320/languages', 'https://api.github.com/repos/diego-florez/datamad0320/languages', 'https://api.github.com/repos/Flori-87/datamad0320/languages', 'https://api.github.com/repos/WHYTEWYLL/datamad0320/languages', 'https://api.github.com/repos/DavidCarricondo/datamad0320/languages', 'https://api.github.com/repos/rihp/datamad0320/languages', 'https://api.github.com/repos/trutorj/datamad0320/languages', 'https://api.github.com/repos/BSanau/datamad0320/languages', 'https://api.github.com/repos/AnaSenso/datamad0320/languages', 'https://api.github.com/repos/mescamez/datamad0320/languages', 'https://api.github.com/repos/Sergio-Perez/datamad0320/languages', 'https://api.github.com/repos/ferrero-felipe/datamad0320/languages', 'https://api.github.com/repos/MiguelFdezDiaz/datamad0320/languages', 'https://api.github.com/repos/Clapiniella/datamad0320/languages', 'https://api.github.com/repos/mcanones/datamad0320/languages', 'https://api.github.com/repos/yuvtorres/datamad0320/languages', 'https://api.github.com/repos/SabineGoett/datamad0320/languages', 'https://api.github.com/repos/AlbertJlobera/datamad0320/languages', 'https://api.github.com/repos/soledb94/datamad0320/languages']\n"
     ]
    }
   ],
   "source": [
    "languages_url=[]\n",
    "for dic in repolanguage:\n",
    "    for k,v in dic.items():\n",
    "        languages_url.append(dic[\"languages_url\"])\n",
    "languages_url =list(set(languages_url))\n",
    "print(languages_url)"
   ]
  },
  {
   "cell_type": "code",
   "execution_count": 6,
   "metadata": {},
   "outputs": [
    {
     "name": "stdout",
     "output_type": "stream",
     "text": [
      "[b'{\"Jupyter Notebook\":1337725,\"HTML\":498316,\"Python\":30427}', b'{\"Jupyter Notebook\":2542893,\"HTML\":498316,\"Python\":40667}']\n"
     ]
    }
   ],
   "source": [
    "\n",
    "lenguages= []\n",
    "repolanguage_url=[]\n",
    "for e in languages_url:\n",
    "    repolanguage_url= requests.get(e,apiKey)\n",
    "    \n",
    "    for e in repolanguage_url:\n",
    "        if e !=None and e not in lenguages:\n",
    "            lenguages.append(e)\n",
    "print(lenguages)       "
   ]
  },
  {
   "cell_type": "code",
   "execution_count": 7,
   "metadata": {},
   "outputs": [
    {
     "name": "stdout",
     "output_type": "stream",
     "text": [
      "['Jupyter Notebook', 'HTML', 'Python']\n"
     ]
    }
   ],
   "source": [
    "import json\n",
    "list2 = []\n",
    "for e in lenguages:\n",
    "    for x in json.loads(e.decode(\"utf-8\")).keys():\n",
    "        if x not in list2:\n",
    "            list2.append(x)\n",
    "print(list2)\n"
   ]
  },
  {
   "cell_type": "markdown",
   "metadata": {},
   "source": [
    "## Challenge 2:\n"
   ]
  },
  {
   "cell_type": "code",
   "execution_count": 29,
   "metadata": {},
   "outputs": [],
   "source": [
    "queryParams ={\n",
    "    \"sha\" : \"master\",\n",
    "    \n",
    "    \"since\": \"2020-03-30\",\n",
    "    \"until\": \"2020-04-05\"\n",
    "}"
   ]
  },
  {
   "cell_type": "code",
   "execution_count": 33,
   "metadata": {},
   "outputs": [
    {
     "name": "stdout",
     "output_type": "stream",
     "text": [
      "WE HAVE APIKEY\n",
      "404 https://api.github.com/repos/ironhack-datalabs/datamad0320/commit?sha=master&since=2020-03-30&until=2020-04-05\n"
     ]
    }
   ],
   "source": [
    "load_dotenv()\n",
    "apiKey = os.getenv(\"GITHUB_APIKEY\")\n",
    "print(\"WE HAVE APIKEY\") if apiKey else print(\"NO APIKEY FOUND\")\n",
    "\n",
    "\n",
    "#path=\"/search/commits?q=repo:ironhack-datalabs/datamad0320\"\n",
    "path=\"/repos/ironhack-datalabs/datamad0320/commit\"\n",
    "commits = getFromGithub (path,queryParams,apiKey)"
   ]
  },
  {
   "cell_type": "code",
   "execution_count": 32,
   "metadata": {},
   "outputs": [
    {
     "name": "stdout",
     "output_type": "stream",
     "text": [
      "[]\n"
     ]
    }
   ],
   "source": [
    "\n",
    "print(commits)\n"
   ]
  },
  {
   "cell_type": "code",
   "execution_count": null,
   "metadata": {},
   "outputs": [],
   "source": [
    "lenguages= []\n",
    "for e in datos:\n",
    "    lenguages.append(e[\"language\"])\n",
    "print(lenguages)"
   ]
  }
 ],
 "metadata": {
  "kernelspec": {
   "display_name": "Python 3",
   "language": "python",
   "name": "python3"
  },
  "language_info": {
   "codemirror_mode": {
    "name": "ipython",
    "version": 3
   },
   "file_extension": ".py",
   "mimetype": "text/x-python",
   "name": "python",
   "nbconvert_exporter": "python",
   "pygments_lexer": "ipython3",
   "version": "3.6.9"
  }
 },
 "nbformat": 4,
 "nbformat_minor": 4
}
